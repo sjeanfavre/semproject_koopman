{
 "cells": [
  {
   "cell_type": "markdown",
   "id": "0cd28e6d-9794-45d1-863f-1400c664aea3",
   "metadata": {},
   "source": [
    "# Pendulum"
   ]
  },
  {
   "cell_type": "code",
   "execution_count": 1,
   "id": "65756aa6-9643-4099-9cf8-09cf1802c80a",
   "metadata": {},
   "outputs": [],
   "source": [
    "'''TODO\n",
    "''';"
   ]
  },
  {
   "cell_type": "code",
   "execution_count": 2,
   "id": "7bb8c959-26a4-427f-b0f4-20ec6583f621",
   "metadata": {},
   "outputs": [],
   "source": [
    "import time\n",
    "import torch\n",
    "import pickle\n",
    "import numpy as np\n",
    "import pandas as pd\n",
    "import torch.nn.functional as F\n",
    "import matplotlib.pyplot as plt\n",
    "\n",
    "from matplotlib.ticker import FormatStrFormatter\n",
    "from torch.optim.lr_scheduler import StepLR\n",
    "from torch import nn\n",
    "from torch import optim\n",
    "from torch.utils.data import DataLoader, Dataset\n",
    "from tqdm import tqdm\n",
    "\n",
    "%matplotlib inline"
   ]
  },
  {
   "cell_type": "code",
   "execution_count": 3,
   "id": "aa6bfa70-a3ac-4c8b-841a-0bf3ad1e2d68",
   "metadata": {},
   "outputs": [
    {
     "name": "stdout",
     "output_type": "stream",
     "text": [
      "Device used: cuda\n"
     ]
    }
   ],
   "source": [
    "# use cuda if available\n",
    "DEVICE = torch.device(\"cuda\" if torch.cuda.is_available() else \"cpu\")\n",
    "print(\"Device used: \" + str(DEVICE))"
   ]
  },
  {
   "cell_type": "markdown",
   "id": "729d66f0-4901-4b53-a843-e1af59e69b3f",
   "metadata": {},
   "source": [
    "Parameters and datasets were taken from the experiments of the paper \"Deep learning for universal linear embeddings of nonlinear dynamics\"\n"
   ]
  },
  {
   "cell_type": "markdown",
   "id": "76335e2e-1cba-4b20-9616-bc99a7e03b4d",
   "metadata": {},
   "source": [
    "### Parameters"
   ]
  },
  {
   "cell_type": "code",
   "execution_count": 4,
   "id": "c1deab2e-c9f7-4d8d-89ca-adac9ce1d1a4",
   "metadata": {},
   "outputs": [],
   "source": [
    "# datasets path\n",
    "DATA_PATH = './data/'\n",
    "\n",
    "# parameters related to datasets\n",
    "LEN_TIME = 51\n",
    "SYSTEM_DIM = 2  # dimension of input\n",
    "DELTA_t = 0.02\n",
    "\n",
    "# parameters of the loss\n",
    "ALPHA1 = 1e-3\n",
    "ALPHA2 = 1e-1\n",
    "ALPHA_L2 = 1e-14\n",
    "PRED_WEIGHT = torch.tensor(np.array([1/(1+0.01*i) for i in range(LEN_TIME)]), requires_grad=False, device=DEVICE)\n",
    "\n",
    "# training parameters\n",
    "BATCH_SIZE = 128\n",
    "HIDDEN_DIM = 64\n",
    "LATENT_DIM = 256\n",
    "LR = 1e-4\n"
   ]
  },
  {
   "cell_type": "markdown",
   "id": "29199d98-7916-4aa2-819e-0dc27bd521a5",
   "metadata": {},
   "source": [
    "### Load dataset"
   ]
  },
  {
   "cell_type": "code",
   "execution_count": 5,
   "id": "88e6ed12-5308-481a-9c89-8e02555cb5e7",
   "metadata": {},
   "outputs": [],
   "source": [
    "class CustomDataset(Dataset):\n",
    "    '''\n",
    "    Create the dataset from the trajectories contained in file_path\n",
    "    '''\n",
    "    def __init__(self, file_path, len_trajectory, system_dim):\n",
    "        dataset = pd.read_csv(file_path, header=None)\n",
    "        try:\n",
    "            self.data = np.array(dataset).reshape((-1,len_trajectory,system_dim))\n",
    "            self.targets = np.array(dataset).reshape((-1,len_trajectory,system_dim))\n",
    "        except KeyError as e:\n",
    "            print(e)\n",
    "            return None\n",
    "        else:\n",
    "            print(f\"Extracted {self.data.shape} data along with {self.targets.shape} targets\")\n",
    "        \n",
    "    def __len__(self):\n",
    "        return len(self.data)\n",
    "\n",
    "    def __getitem__(self, idx):\n",
    "        input = self.data[idx]\n",
    "        output = self.targets[idx]\n",
    "        return input, output"
   ]
  },
  {
   "cell_type": "code",
   "execution_count": 6,
   "id": "049d4bb1-4bc4-4ba7-b4f1-55ec3c73a6b3",
   "metadata": {},
   "outputs": [],
   "source": [
    "'''\n",
    "# This cell concatenated the separated training datasets into one\n",
    "\n",
    "train_data1 = pd.read_csv(DATA_PATH + 'Pendulum_train1_x.csv', header=None)\n",
    "train_data2 = pd.read_csv(DATA_PATH + 'Pendulum_train2_x.csv', header=None)\n",
    "train_data3 = pd.read_csv(DATA_PATH + 'Pendulum_train3_x.csv', header=None)\n",
    "train_data4 = pd.read_csv(DATA_PATH + 'Pendulum_train4_x.csv', header=None)\n",
    "train_data5 = pd.read_csv(DATA_PATH + 'Pendulum_train5_x.csv', header=None)\n",
    "train_data6 = pd.read_csv(DATA_PATH + 'Pendulum_train6_x.csv', header=None)\n",
    "train_data = pd.concat((train_data1, train_data2, train_data3, train_data4, train_data5, train_data6))\n",
    "train_data.to_csv(DATA_PATH + 'Pendulum_train_x.csv', header=False, index=False)\n",
    "''';"
   ]
  },
  {
   "cell_type": "code",
   "execution_count": 7,
   "id": "a4b52064-9c7c-4c0f-b9ac-438f71259be9",
   "metadata": {},
   "outputs": [
    {
     "name": "stdout",
     "output_type": "stream",
     "text": [
      "Extracted (21000, 51, 2) data along with (21000, 51, 2) targets\n",
      "Extracted (1000, 51, 2) data along with (1000, 51, 2) targets\n",
      "Extracted (500, 51, 2) data along with (500, 51, 2) targets\n"
     ]
    }
   ],
   "source": [
    "train_dataset = CustomDataset(DATA_PATH + 'Pendulum_train_x.csv', LEN_TIME, SYSTEM_DIM)\n",
    "val_dataset = CustomDataset(DATA_PATH + 'Pendulum_val_x.csv', LEN_TIME, SYSTEM_DIM)\n",
    "test_dataset = CustomDataset(DATA_PATH + 'Pendulum_test_x.csv', LEN_TIME, SYSTEM_DIM)"
   ]
  },
  {
   "cell_type": "code",
   "execution_count": 8,
   "id": "711146e3-3a9c-44bb-9bf3-108ab7a63d6a",
   "metadata": {},
   "outputs": [],
   "source": [
    "train_data = train_dataset.data\n",
    "train_dataloader = DataLoader(\n",
    "    dataset = train_dataset,\n",
    "    batch_size = BATCH_SIZE,\n",
    "    shuffle = False,\n",
    "    num_workers = 0,\n",
    ")\n",
    "\n",
    "val_data = val_dataset.data\n",
    "val_dataloader = DataLoader(\n",
    "    dataset = val_dataset,\n",
    "    batch_size = BATCH_SIZE,\n",
    "    shuffle = False,\n",
    "    num_workers = 0,\n",
    ")\n",
    "\n",
    "test_data = test_dataset.data\n",
    "test_dataloader = DataLoader(\n",
    "    dataset = test_dataset,\n",
    "    batch_size = BATCH_SIZE,\n",
    "    shuffle = False,\n",
    "    num_workers = 0,\n",
    ")"
   ]
  },
  {
   "cell_type": "code",
   "execution_count": 15,
   "id": "6f59f313-80d2-4776-a4e4-798f608b1eab",
   "metadata": {},
   "outputs": [],
   "source": [
    "class KoopmanNet(nn.Module):\n",
    "    '''\n",
    "    Koopman network that encodes, advances in time and decodes\n",
    "    \n",
    "    params:\n",
    "        system_dim -- initial system dimension\n",
    "        hidden -- number of hidden units in each layer of the encoder and decoder\n",
    "        latent_dim -- dimension of the approximated invariant Koopman subspace\n",
    "    '''\n",
    "    def __init__(self, system_dim, hidden, latent_dim):\n",
    "        super(KoopmanNet, self).__init__()\n",
    "                \n",
    "        self.encode = nn.Sequential(\n",
    "            nn.Linear(system_dim, hidden),\n",
    "            nn.ELU(),\n",
    "            nn.Linear(hidden, hidden),\n",
    "            nn.ELU(),\n",
    "            nn.Linear(hidden, latent_dim),\n",
    "        )\n",
    "        \n",
    "        self.L = nn.Sequential(\n",
    "            nn.Linear(latent_dim, latent_dim),\n",
    "        )\n",
    "        \n",
    "        self.decode = nn.Sequential(\n",
    "            nn.Linear(latent_dim, hidden),\n",
    "            nn.ELU(),\n",
    "            nn.Linear(hidden, hidden),\n",
    "            nn.ELU(),\n",
    "            nn.Linear(hidden, system_dim),\n",
    "        )\n",
    "        \n",
    "    def forward(self, x):\n",
    "        y = self.encode(x)\n",
    "        x_recon = self.decode(y)\n",
    "                \n",
    "        y_lin = y[:,0,:].unsqueeze(dim=1)\n",
    "        for i in range(x.shape[1]-1):\n",
    "            y_prev = y_lin[:,-1,:].unsqueeze(dim=1)\n",
    "            y_lin = torch.cat((y_lin, self.L(y_prev)), dim=1)\n",
    "            \n",
    "        x_pred = self.decode(y_lin)\n",
    "\n",
    "        return x, x_recon, x_pred, y, y_lin"
   ]
  },
  {
   "cell_type": "code",
   "execution_count": 16,
   "id": "84c6f0f3-5fd3-47a2-b3cc-4c48ef957716",
   "metadata": {},
   "outputs": [],
   "source": [
    "def define_loss(x, x_recon, x_pred, y, y_lin, target, alpha1, alpha2):\n",
    "    \n",
    "    # reconstruction loss\n",
    "    recon_loss = alpha1 * F.mse_loss(x_recon, x)\n",
    "    \n",
    "    # linearity loss\n",
    "    lin_loss = torch.tensor(0)\n",
    "    lin_loss = F.mse_loss(y, y_lin)\n",
    "    \n",
    "    # prediction loss\n",
    "    pred_loss = torch.tensor(0)\n",
    "    #pred_loss = torch.mean(PRED_WEIGHT*torch.linalg.norm(x_pred-x, dim=2)**2) # weighted MSE\n",
    "    pred_loss = alpha2*F.mse_loss(x, x_pred)\n",
    "    \n",
    "    # total loss\n",
    "    loss = recon_loss + pred_loss + lin_loss\n",
    "    \n",
    "    return loss, recon_loss, lin_loss, pred_loss"
   ]
  },
  {
   "cell_type": "code",
   "execution_count": 17,
   "id": "ea785a13-c6cb-4fe0-9e43-2570cdb8b659",
   "metadata": {},
   "outputs": [],
   "source": [
    "def eval_model(model, dataloader):\n",
    "    model.eval()\n",
    "    total_loss = 0.\n",
    "    with torch.no_grad():\n",
    "        for batch_idx, (data, target) in enumerate(dataloader):\n",
    "            data, target = data.to(DEVICE).float(), target.to(DEVICE).float()\n",
    "            x, x_recon, x_pred, y, y_lin = model(data)\n",
    "            loss, recon_loss, lin_loss, pred_loss = define_loss(x, x_recon, x_pred, y, y_lin, \n",
    "                                                                target, ALPHA1, ALPHA2)\n",
    "            total_loss += loss.item()*data.size(0) # multiply by batch size\n",
    "    \n",
    "    return total_loss/len(dataloader) # divide by number of batches\n"
   ]
  },
  {
   "cell_type": "markdown",
   "id": "cb6823d4-c08f-484e-a924-d08568f00cc5",
   "metadata": {},
   "source": [
    "### Training"
   ]
  },
  {
   "cell_type": "code",
   "execution_count": 19,
   "id": "486d370e-0a40-410a-b2b3-c73f9a2bea76",
   "metadata": {},
   "outputs": [
    {
     "name": "stdout",
     "output_type": "stream",
     "text": [
      "Adjusting learning rate of group 0 to 1.0000e-04.\n"
     ]
    }
   ],
   "source": [
    "model = KoopmanNet(system_dim=SYSTEM_DIM, hidden=HIDDEN_DIM,\n",
    "                   latent_dim=LATENT_DIM).to(DEVICE)\n",
    "optimizer = torch.optim.Adam(model.parameters(), lr=LR, weight_decay=ALPHA_L2)\n",
    "scheduler = StepLR(optimizer, step_size=100, gamma=0.5, verbose=True)"
   ]
  },
  {
   "cell_type": "code",
   "execution_count": 20,
   "id": "edf4127b-adc5-4c6a-8c59-e722700cdeb0",
   "metadata": {},
   "outputs": [],
   "source": [
    "loss_epochs = []\n",
    "recon_loss_epochs = []\n",
    "lin_loss_epochs = []\n",
    "pred_loss_epochs = []\n",
    "val_loss = []"
   ]
  },
  {
   "cell_type": "code",
   "execution_count": null,
   "id": "0454b4a7-2a98-4d4f-993c-529d467da49c",
   "metadata": {},
   "outputs": [],
   "source": [
    "%%time\n",
    "\n",
    "nb_epochs = 500\n",
    "\n",
    "for epoch in range(nb_epochs):\n",
    "    \n",
    "    if(epoch % 10 == 0):\n",
    "        print('Epoch {}'.format(epoch))\n",
    "        \n",
    "    running_loss = 0\n",
    "    running_recon_loss = 0\n",
    "    running_lin_loss = 0\n",
    "    running_pred_loss = 0\n",
    "    \n",
    "    model.train()\n",
    "    for batch_idx, (data, target) in enumerate(train_dataloader):\n",
    "        data, target = data.to(DEVICE).float(), target.to(DEVICE).float()\n",
    "        # reset gradients\n",
    "        optimizer.zero_grad()\n",
    "\n",
    "        # forward, backward, optimize\n",
    "        x, x_recon, x_pred, y, y_lin = model(data)\n",
    "        loss, recon_loss, lin_loss, pred_loss = define_loss(x, x_recon, x_pred, y, y_lin, \n",
    "                                                            target, ALPHA1, ALPHA2)\n",
    "        loss.backward()\n",
    "        optimizer.step()\n",
    "        \n",
    "        running_loss += loss.item()*data.size(0)\n",
    "        running_recon_loss += recon_loss.item()*data.size(0)\n",
    "        running_lin_loss += lin_loss.item()*data.size(0)\n",
    "        running_pred_loss += pred_loss.item()*data.size(0)\n",
    "        \n",
    "    # store running losses\n",
    "    with torch.no_grad():\n",
    "        loss_epochs.append(running_loss/len(train_dataloader))\n",
    "        recon_loss_epochs.append(running_recon_loss/len(train_dataloader))\n",
    "        lin_loss_epochs.append(running_lin_loss/len(train_dataloader))\n",
    "        pred_loss_epochs.append(running_pred_loss/len(train_dataloader))\n",
    "        \n",
    "    val_loss.append(eval_model(model, val_dataloader)) \n",
    "    \n",
    "    if epoch < 200:\n",
    "        scheduler.step()"
   ]
  },
  {
   "cell_type": "markdown",
   "id": "5d32eeb0-3225-46ff-89e8-7e5ff7cde167",
   "metadata": {},
   "source": [
    "### Plots"
   ]
  },
  {
   "cell_type": "code",
   "execution_count": 32,
   "id": "034804d9-5de3-469b-bfba-2198a296810f",
   "metadata": {},
   "outputs": [
    {
     "data": {
      "image/png": "[encoded data removed]",
      "text/plain": [
       "<Figure size 1008x432 with 4 Axes>"
      ]
     },
     "metadata": {
      "needs_background": "light"
     },
     "output_type": "display_data"
    }
   ],
   "source": [
    "# plot training losses\n",
    "fig, axes = plt.subplots(2, 2, figsize=(14,6))\n",
    "axes[0, 0].plot(np.log10(loss_epochs))\n",
    "axes[0, 0].set_title('Total loss')\n",
    "#axes[0, 0].set_ylim(top=0)\n",
    "axes[0, 1].plot(np.log10(recon_loss_epochs))\n",
    "axes[0, 1].set_title('Reconstruction loss')\n",
    "axes[1, 0].plot(np.log10(lin_loss_epochs))\n",
    "axes[1, 0].set_title('Linearity loss')\n",
    "#axes[1, 0].set_ylim(top=0)\n",
    "axes[1, 1].plot(np.log10(pred_loss_epochs))\n",
    "axes[1, 1].set_title('Prediction loss')\n",
    "\n",
    "axes[0, 0].yaxis.set_major_formatter(FormatStrFormatter('%.4f'))\n",
    "\n",
    "plt.tight_layout()\n",
    "plt.savefig('./pendulum/saved/training_errors.jpg')\n",
    "plt.show()"
   ]
  },
  {
   "cell_type": "code",
   "execution_count": 33,
   "id": "a15d9e05-8953-4a44-b5ad-4ecd41969b64",
   "metadata": {},
   "outputs": [
    {
     "data": {
      "image/png": "[encoded data removed]",
      "text/plain": [
       "<Figure size 576x360 with 1 Axes>"
      ]
     },
     "metadata": {
      "needs_background": "light"
     },
     "output_type": "display_data"
    }
   ],
   "source": [
    "# plot loss\n",
    "plt.subplots(figsize=(8,5))\n",
    "plt.plot(np.log10(loss_epochs), label='Training loss')\n",
    "plt.plot(np.log10(val_loss), color='darkorange', label='Validation loss')\n",
    "plt.xlabel('Epochs')\n",
    "plt.ylabel('Loss per epoch')\n",
    "plt.title('Loss during training phase for pendulum')\n",
    "plt.legend()\n",
    "plt.savefig('./pendulum/saved/train_val_error.jpg')\n",
    "plt.show()"
   ]
  },
  {
   "cell_type": "markdown",
   "id": "a582e81e-7c9f-42e2-9ddd-2eee92a66c06",
   "metadata": {},
   "source": [
    "### Model evaluation"
   ]
  },
  {
   "cell_type": "code",
   "execution_count": 34,
   "id": "62a2683d-4720-47b4-9008-085712f6d3b4",
   "metadata": {},
   "outputs": [
    {
     "name": "stdout",
     "output_type": "stream",
     "text": [
      "Log10 of training error:     0.001442141211\n",
      "Log10 of validation error:   0.001411712762\n"
     ]
    }
   ],
   "source": [
    "training_error = eval_model(model, train_dataloader)\n",
    "validation_error = eval_model(model, val_dataloader)\n",
    "\n",
    "print(f'Log10 of training error:     {training_error:.12f}')\n",
    "print(f'Log10 of validation error:   {validation_error:.12f}')"
   ]
  },
  {
   "cell_type": "markdown",
   "id": "b7db5699-d41e-4523-b46a-f54e97290865",
   "metadata": {},
   "source": [
    "### Trajectory simulation"
   ]
  },
  {
   "cell_type": "code",
   "execution_count": 35,
   "id": "8d0f063e-399b-4088-b1fa-2f52efafa42a",
   "metadata": {},
   "outputs": [],
   "source": [
    "# Load validation/test trajectories\n",
    "with torch.no_grad():\n",
    "    for data, target in val_dataloader:\n",
    "        data, target = data.to(DEVICE).float(), target.to(DEVICE).float()\n",
    "\n",
    "        output = model(data)\n",
    "        x, x_recon, x_pred, y, y_lin = model(data)"
   ]
  },
  {
   "cell_type": "code",
   "execution_count": 36,
   "id": "a4f783c7-45ea-40e5-a4ed-e228a2cd175b",
   "metadata": {},
   "outputs": [],
   "source": [
    "x = np.array(x.detach().cpu())\n",
    "x_recon = np.array(x_recon.detach().cpu())\n",
    "x_pred = np.array(x_pred.detach().cpu())"
   ]
  },
  {
   "cell_type": "code",
   "execution_count": 62,
   "id": "47220f40-5214-441d-9685-192cd16d65d5",
   "metadata": {},
   "outputs": [
    {
     "data": {
      "image/png": "[encoded data removed]",
      "text/plain": [
       "<Figure size 576x360 with 1 Axes>"
      ]
     },
     "metadata": {
      "needs_background": "light"
     },
     "output_type": "display_data"
    }
   ],
   "source": [
    "traj = 4\n",
    "fig, ax =plt.subplots(figsize=(8,5))\n",
    "plt.plot(x[traj,:,0], x[traj,:,1], label='original')\n",
    "plt.plot(x_recon[traj,:,0], x_recon[traj,:,1], label='reconstructed')\n",
    "plt.plot(x_pred[traj,:,0], x_pred[traj,:,1], label='predicted')\n",
    "plt.title('Trajectory')\n",
    "#ax.set_aspect('equal')\n",
    "plt.grid()\n",
    "plt.legend()\n",
    "plt.savefig('./pendulum/saved/traj_example2.jpg')\n",
    "plt.show()"
   ]
  },
  {
   "cell_type": "code",
   "execution_count": 42,
   "id": "2d520f4c-28d9-4049-bdcf-71414161343e",
   "metadata": {},
   "outputs": [],
   "source": [
    "PATH = './pendulum/saved/pendulum_model.pt'"
   ]
  },
  {
   "cell_type": "code",
   "execution_count": 43,
   "id": "078e86b0-a528-484d-ac1b-ffe2e74d46ae",
   "metadata": {},
   "outputs": [],
   "source": [
    "torch.save(model.state_dict(), PATH)"
   ]
  },
  {
   "cell_type": "code",
   "execution_count": 38,
   "id": "d113ba71-f14e-4668-8741-2d4807fa75ec",
   "metadata": {},
   "outputs": [
    {
     "data": {
      "text/plain": [
       "<All keys matched successfully>"
      ]
     },
     "execution_count": 38,
     "metadata": {},
     "output_type": "execute_result"
    }
   ],
   "source": [
    "model = KoopmanNet(system_dim=SYSTEM_DIM, hidden=HIDDEN_DIM,\n",
    "                   latent_dim=LATENT_DIM).to(DEVICE)\n",
    "model.load_state_dict(torch.load(PATH, map_location=DEVICE))"
   ]
  },
  {
   "cell_type": "code",
   "execution_count": 44,
   "id": "62c080bb-e00c-4d71-b75c-4f74bca6a27d",
   "metadata": {},
   "outputs": [],
   "source": [
    "np.save('./pendulum/saved/training_loss.npy', loss_epochs)\n",
    "np.save('./pendulum/saved/recon_loss_epochs.npy', recon_loss_epochs)\n",
    "np.save('./pendulum/saved/lin_loss_epochs.npy', lin_loss_epochs)\n",
    "np.save('./pendulum/saved/pred_loss_epochs.npy', pred_loss_epochs)\n",
    "np.save('./pendulum/saved/val_loss.npy', val_loss)"
   ]
  },
  {
   "cell_type": "code",
   "execution_count": null,
   "id": "30a11301-de16-4168-83e8-b8f2330758fe",
   "metadata": {},
   "outputs": [],
   "source": []
  }
 ],
 "metadata": {
  "kernelspec": {
   "display_name": "Python 3 (ipykernel)",
   "language": "python",
   "name": "python3"
  },
  "language_info": {
   "codemirror_mode": {
    "name": "ipython",
    "version": 3
   },
   "file_extension": ".py",
   "mimetype": "text/x-python",
   "name": "python",
   "nbconvert_exporter": "python",
   "pygments_lexer": "ipython3",
   "version": "3.9.7"
  }
 },
 "nbformat": 4,
 "nbformat_minor": 5
}
